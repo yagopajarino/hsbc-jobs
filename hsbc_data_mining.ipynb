{
 "cells": [
  {
   "cell_type": "markdown",
   "id": "e73fc85d",
   "metadata": {},
   "source": [
    "# HSBC jobs posting data scrapper"
   ]
  },
  {
   "cell_type": "markdown",
   "id": "16e2f5e6",
   "metadata": {},
   "source": [
    "## Descripción del problema\n",
    "\n",
    "Se necesita obtener todas las ofertas laborales abiertas del banco HSBC, detallando:\n",
    "\n",
    "- Locación del puesto\n",
    "- Sector\n",
    "- Tipo de jornadad\n",
    "- Modalidad de trabajo\n",
    "- Fecha de inicio de la búsqueda\n",
    "- Fecha de finalización de la búsqueda\n",
    "- Link a la descripción de la posición\n",
    "\n",
    "## Obtención de datos\n",
    "\n",
    "Utilizando python, herramientas de web scrapping: requests, BeautifulSoup y herramientas de manejo de datos: pandas, podemos utilizar la url publica de ofertas de trabajo de HSBC: https://mycareer.hsbc.com/en_GB/external/SearchJobs/ y obtener los datos que necesitamos y descargarlos a un archivo CSV para luego ser analizados.\n",
    "\n",
    "### Estructura del portal de empleos\n",
    "\n",
    "El portal de empleos de HSBC de acceso público por la URL https://mycareer.hsbc.com/en_GB/external/SearchJobs/ se organiza de la siguiente manera:\n",
    "- Cada página muestra hasta 50 resultados, modificable utilizando la query **pipelineRecordsPerPage** url.\n",
    "- Los resultados mostrados en la página dependen del valor **pipelineOffset** en la query url.\n",
    "- Una pagina sin resultados muestra el mensaje _\"There are no jobs that match your search criteria. Please amend your filters and try again\"_\n",
    "\n",
    "Conociendo esta estructura y comportamiento se puede utilizar la siguiente estrategia de scrapping.\n",
    "\n",
    "### Estrategia de scrapping\n",
    "\n",
    "#### Obtención de jobs posting\n",
    "\n",
    "1. Hacer un requests.get a la url del sitio, modificando los query params, hasta encontrar el mensaje de error mencionado.\n",
    "2. Para cada resultado de las requests.get, obtener todos los html tag article inlcuidos en el div con class=section__content__results\n",
    "3. En una lista_total articulos, guardar los articulos obtenidos de cada requests.get\n",
    "\n",
    "#### Extracción de datos de articulos\n",
    "\n",
    "Una vez obtenidos todos los articulos del paso anterior, extraer:\n",
    "1. Titulo del puesto\n",
    "2. Locación\n",
    "3. Sector\n",
    "4. Horario\n",
    "5. Modalidad de trabajo\n",
    "6. Fechas\n",
    "7. Link a la descripción\n",
    "\n",
    "Ver [funciones de extracción](#Funciones-de-extracción)\n",
    "\n",
    "#### Presentación de datos\n",
    "\n",
    "Una vez extraídos los datos de los articulos, generar un pandas DataFrame y exportar a un archivo CSV.\n",
    "\n",
    "[Descargar datos](./hsbc_jobs_data.csv)"
   ]
  },
  {
   "cell_type": "markdown",
   "id": "c20129a2",
   "metadata": {},
   "source": [
    "## Implementación"
   ]
  },
  {
   "cell_type": "code",
   "execution_count": 1,
   "id": "9a6270ac",
   "metadata": {},
   "outputs": [],
   "source": [
    "import requests as re\n",
    "from bs4 import BeautifulSoup\n",
    "import pandas as pd"
   ]
  },
  {
   "cell_type": "markdown",
   "id": "ee4c6f52",
   "metadata": {},
   "source": [
    "### Extracción de artículos"
   ]
  },
  {
   "cell_type": "code",
   "execution_count": 2,
   "id": "6f2afb3e",
   "metadata": {},
   "outputs": [],
   "source": [
    "RECORDS_PER_PAGE = 50\n",
    "get_url = lambda offset: f\"https://mycareer.hsbc.com/en_GB/external/SearchJobs/?pipelineRecordsPerPage={RECORDS_PER_PAGE}&pipelineOffset={offset}\""
   ]
  },
  {
   "cell_type": "code",
   "execution_count": 3,
   "id": "ce974ad3",
   "metadata": {},
   "outputs": [],
   "source": [
    "error_message = \"There are no jobs that match your search criteria. Please amend your filters and try again\"\n",
    "end_of_articles = lambda articles: articles[0].h3.text.strip(\" \\n\\r\") == error_message"
   ]
  },
  {
   "cell_type": "code",
   "execution_count": 4,
   "id": "c7631185",
   "metadata": {},
   "outputs": [],
   "source": [
    "def get_articles(offset):\n",
    "    r = re.get(get_url(offset))\n",
    "    soup = BeautifulSoup(r.text, \"html.parser\")\n",
    "    tiles = soup.find(\"div\", {\"class\": \"section__content__results\"})\n",
    "    articles = tiles.find_all(\"article\")\n",
    "    return articles"
   ]
  },
  {
   "cell_type": "code",
   "execution_count": 5,
   "id": "950c7adc",
   "metadata": {
    "scrolled": true
   },
   "outputs": [
    {
     "name": "stdout",
     "output_type": "stream",
     "text": [
      "Postings obtenidos: \n",
      "0 50 100 150 200 250 300 350 400 450 500 550 600 650 700 750 800 850 900 950 1000 1050 1100 1150 1200 1250 1300 1350 1400 1450 1500 1550 1600 1650 1700 1750 1800 1850 1900 1950 2000 2050 2100 2150 2200 2250 2300 2350 2400 2450 2500 2550 2600 2650 2700 2750 2800 2850 2900 2950 3000 3050 3100 3150 3200 3250 3300 3350 3400 3450 3500 "
     ]
    }
   ],
   "source": [
    "total_articles = []\n",
    "offset = 0\n",
    "articles = get_articles(offset)\n",
    "print(\"Postings obtenidos: \")\n",
    "while not end_of_articles(articles):\n",
    "    print(offset, end=\" \")\n",
    "    total_articles += articles\n",
    "    offset += 50\n",
    "    articles = get_articles(offset)"
   ]
  },
  {
   "cell_type": "markdown",
   "id": "8728868a",
   "metadata": {},
   "source": [
    "### Funciones de extracción"
   ]
  },
  {
   "cell_type": "code",
   "execution_count": 6,
   "id": "396f803f",
   "metadata": {},
   "outputs": [],
   "source": [
    "# Job Post items container\n",
    "get_data_container = lambda article: article.find(attrs={\"class\": \"article__header__text__subtitle\"}).find_all(attrs={\"class\": \"item__container\"})"
   ]
  },
  {
   "cell_type": "code",
   "execution_count": 7,
   "id": "7f256f27",
   "metadata": {},
   "outputs": [],
   "source": [
    "# Extracting functions\n",
    "get_article_title = lambda article: article.find(\"h3\").find(\"a\").string.strip(\" \\n\\r\")\n",
    "get_article_location = lambda container: container[0].find(attrs={\"class\": \"location\"}).string.strip(\" \\n\\r\")\n",
    "get_article_sector = lambda container: container[1].find(\"span\").string.strip(\" \\n\\r\")\n",
    "get_article_hours = lambda container: container[2].find(\"span\").string.strip(\" \\n\\r\")\n",
    "get_article_worktype = lambda container: container[3].find(\"span\").string.strip(\" \\n\\r\")\n",
    "get_article_dates = lambda container: [x.strip(\" \\n\\r\") for x in container[4].find(\"span\").string.replace(\" \", \"\").split(\"\\n\\n-\")]\n",
    "get_job_link = lambda article: article.find(attrs={\"class\": \"article__header__actions\"}).a[\"href\"]"
   ]
  },
  {
   "cell_type": "markdown",
   "id": "be3d9450",
   "metadata": {},
   "source": [
    "### Extracción de datos de artículos"
   ]
  },
  {
   "cell_type": "code",
   "execution_count": 23,
   "id": "9478ef1a",
   "metadata": {},
   "outputs": [],
   "source": [
    "def get_data_from_articles(articles):\n",
    "    data = []\n",
    "    for a in articles:\n",
    "        container = get_data_container(a)\n",
    "        title = get_article_title(a)\n",
    "        location = get_article_location(container)\n",
    "        sector = get_article_sector(container)\n",
    "        hours = get_article_hours(container)\n",
    "        worktype = get_article_worktype(container)\n",
    "        dates = get_article_dates(container)\n",
    "        link = get_job_link(a)\n",
    "        data.append({\n",
    "            \"title\": title,\n",
    "            \"location\": location,\n",
    "            \"sector\": sector,\n",
    "            \"hours\": hours,\n",
    "            \"worktype\": worktype,\n",
    "            \"dates\": dates,\n",
    "            \"link\": link,\n",
    "        })\n",
    "    return data"
   ]
  },
  {
   "cell_type": "code",
   "execution_count": 24,
   "id": "eb7857ca",
   "metadata": {},
   "outputs": [],
   "source": [
    "df = pd.DataFrame(get_data_from_articles(total_articles[:-1]))"
   ]
  },
  {
   "cell_type": "code",
   "execution_count": 25,
   "id": "c670870e",
   "metadata": {},
   "outputs": [],
   "source": [
    "df[\"from_date\"] = df[\"dates\"].str[0]\n",
    "df[\"to_date\"] = df[\"dates\"].str[1]"
   ]
  },
  {
   "cell_type": "code",
   "execution_count": 26,
   "id": "02ddad26",
   "metadata": {},
   "outputs": [],
   "source": [
    "df.drop(columns=[\"dates\"], inplace=True)"
   ]
  },
  {
   "cell_type": "code",
   "execution_count": 27,
   "id": "2ca8b685",
   "metadata": {},
   "outputs": [
    {
     "data": {
      "text/html": [
       "<div>\n",
       "<style scoped>\n",
       "    .dataframe tbody tr th:only-of-type {\n",
       "        vertical-align: middle;\n",
       "    }\n",
       "\n",
       "    .dataframe tbody tr th {\n",
       "        vertical-align: top;\n",
       "    }\n",
       "\n",
       "    .dataframe thead th {\n",
       "        text-align: right;\n",
       "    }\n",
       "</style>\n",
       "<table border=\"1\" class=\"dataframe\">\n",
       "  <thead>\n",
       "    <tr style=\"text-align: right;\">\n",
       "      <th></th>\n",
       "      <th>title</th>\n",
       "      <th>location</th>\n",
       "      <th>sector</th>\n",
       "      <th>hours</th>\n",
       "      <th>worktype</th>\n",
       "      <th>link</th>\n",
       "      <th>from_date</th>\n",
       "      <th>to_date</th>\n",
       "    </tr>\n",
       "  </thead>\n",
       "  <tbody>\n",
       "    <tr>\n",
       "      <th>0</th>\n",
       "      <td>WPB IT Audit Manager</td>\n",
       "      <td>Mumbai, India</td>\n",
       "      <td>Audit</td>\n",
       "      <td>Permanent - Full Time</td>\n",
       "      <td>Office Working</td>\n",
       "      <td>https://mycareer.hsbc.com/en_GB/external/Pipel...</td>\n",
       "      <td>21-Sep-2022</td>\n",
       "      <td>04-Oct-2022</td>\n",
       "    </tr>\n",
       "    <tr>\n",
       "      <th>1</th>\n",
       "      <td>Analyst</td>\n",
       "      <td>Mumbai, India</td>\n",
       "      <td>Investment Banking, Markets and Research</td>\n",
       "      <td>Permanent - Full Time</td>\n",
       "      <td>Office Working</td>\n",
       "      <td>https://mycareer.hsbc.com/en_GB/external/Pipel...</td>\n",
       "      <td>21-Sep-2022</td>\n",
       "      <td>05-Oct-2022</td>\n",
       "    </tr>\n",
       "    <tr>\n",
       "      <th>2</th>\n",
       "      <td>CSEM Analyst</td>\n",
       "      <td>Azcapotzalco, Mexico</td>\n",
       "      <td>Operations</td>\n",
       "      <td>Permanent - Full Time</td>\n",
       "      <td>Hybrid Working</td>\n",
       "      <td>https://mycareer.hsbc.com/en_GB/external/Pipel...</td>\n",
       "      <td>21-Sep-2022</td>\n",
       "      <td>05-Oct-2022</td>\n",
       "    </tr>\n",
       "    <tr>\n",
       "      <th>3</th>\n",
       "      <td>Trainee Software Engineer/Wealth &amp; Personal Ba...</td>\n",
       "      <td>Pune, India</td>\n",
       "      <td>Technology</td>\n",
       "      <td>Permanent - Full Time</td>\n",
       "      <td>Office Working</td>\n",
       "      <td>https://mycareer.hsbc.com/en_GB/external/Pipel...</td>\n",
       "      <td>21-Sep-2022</td>\n",
       "      <td>31-Dec-2025</td>\n",
       "    </tr>\n",
       "    <tr>\n",
       "      <th>4</th>\n",
       "      <td>Lead Consultant Specialist</td>\n",
       "      <td>Guangzhou, Mainland China</td>\n",
       "      <td>Technology</td>\n",
       "      <td>Fixed Term - Full Time</td>\n",
       "      <td>Office Working</td>\n",
       "      <td>https://mycareer.hsbc.com/en_GB/external/Pipel...</td>\n",
       "      <td>21-Sep-2022</td>\n",
       "      <td>31-Dec-2025</td>\n",
       "    </tr>\n",
       "    <tr>\n",
       "      <th>...</th>\n",
       "      <td>...</td>\n",
       "      <td>...</td>\n",
       "      <td>...</td>\n",
       "      <td>...</td>\n",
       "      <td>...</td>\n",
       "      <td>...</td>\n",
       "      <td>...</td>\n",
       "      <td>...</td>\n",
       "    </tr>\n",
       "    <tr>\n",
       "      <th>3502</th>\n",
       "      <td>Personal Banker (Type 1) RBWM</td>\n",
       "      <td>COURBEVOIE, France</td>\n",
       "      <td>Branch and Retail Banking</td>\n",
       "      <td>Permanent - Full Time</td>\n",
       "      <td>Office Working</td>\n",
       "      <td>https://mycareer.hsbc.com/en_GB/external/Pipel...</td>\n",
       "      <td>05-Dec-2021</td>\n",
       "      <td>30-Sep-2022</td>\n",
       "    </tr>\n",
       "    <tr>\n",
       "      <th>3503</th>\n",
       "      <td>汇丰私人财富规划北京分区总经理Field Manager - HSBC Personal W...</td>\n",
       "      <td>Beijing, Mainland China</td>\n",
       "      <td>Insurance</td>\n",
       "      <td>Fixed Term - Full Time</td>\n",
       "      <td>Office Working</td>\n",
       "      <td>https://mycareer.hsbc.com/en_GB/external/Pipel...</td>\n",
       "      <td>01-Dec-2021</td>\n",
       "      <td>31-Dec-2025</td>\n",
       "    </tr>\n",
       "    <tr>\n",
       "      <th>3504</th>\n",
       "      <td>Customer Service Officer, Securities and Retai...</td>\n",
       "      <td>Kowloon Bay, Hong Kong</td>\n",
       "      <td>Call Centre</td>\n",
       "      <td>Permanent - Full Time</td>\n",
       "      <td>Office Working</td>\n",
       "      <td>https://mycareer.hsbc.com/en_GB/external/Pipel...</td>\n",
       "      <td>18-Nov-2021</td>\n",
       "      <td>31-Dec-2025</td>\n",
       "    </tr>\n",
       "    <tr>\n",
       "      <th>3505</th>\n",
       "      <td>Jade Relationship Manager RBWM</td>\n",
       "      <td>Paris, France</td>\n",
       "      <td>Branch and Retail Banking</td>\n",
       "      <td>Permanent - Full Time</td>\n",
       "      <td>Office Working</td>\n",
       "      <td>https://mycareer.hsbc.com/en_GB/external/Pipel...</td>\n",
       "      <td>28-Sep-2021</td>\n",
       "      <td>30-Sep-2022</td>\n",
       "    </tr>\n",
       "    <tr>\n",
       "      <th>3506</th>\n",
       "      <td>Underwriting Manager - HSBC Life</td>\n",
       "      <td>Kowloon City, Hong Kong</td>\n",
       "      <td>Operations</td>\n",
       "      <td>Permanent - Full Time</td>\n",
       "      <td>Hybrid Working</td>\n",
       "      <td>https://mycareer.hsbc.com/en_GB/external/Pipel...</td>\n",
       "      <td>22-Aug-2021</td>\n",
       "      <td>31-Dec-2025</td>\n",
       "    </tr>\n",
       "  </tbody>\n",
       "</table>\n",
       "<p>3507 rows × 8 columns</p>\n",
       "</div>"
      ],
      "text/plain": [
       "                                                  title  \\\n",
       "0                                  WPB IT Audit Manager   \n",
       "1                                               Analyst   \n",
       "2                                          CSEM Analyst   \n",
       "3     Trainee Software Engineer/Wealth & Personal Ba...   \n",
       "4                            Lead Consultant Specialist   \n",
       "...                                                 ...   \n",
       "3502                      Personal Banker (Type 1) RBWM   \n",
       "3503  汇丰私人财富规划北京分区总经理Field Manager - HSBC Personal W...   \n",
       "3504  Customer Service Officer, Securities and Retai...   \n",
       "3505                     Jade Relationship Manager RBWM   \n",
       "3506                   Underwriting Manager - HSBC Life   \n",
       "\n",
       "                       location                                    sector  \\\n",
       "0                 Mumbai, India                                     Audit   \n",
       "1                 Mumbai, India  Investment Banking, Markets and Research   \n",
       "2          Azcapotzalco, Mexico                                Operations   \n",
       "3                   Pune, India                                Technology   \n",
       "4     Guangzhou, Mainland China                                Technology   \n",
       "...                         ...                                       ...   \n",
       "3502         COURBEVOIE, France                 Branch and Retail Banking   \n",
       "3503    Beijing, Mainland China                                 Insurance   \n",
       "3504     Kowloon Bay, Hong Kong                               Call Centre   \n",
       "3505              Paris, France                 Branch and Retail Banking   \n",
       "3506    Kowloon City, Hong Kong                                Operations   \n",
       "\n",
       "                       hours        worktype  \\\n",
       "0      Permanent - Full Time  Office Working   \n",
       "1      Permanent - Full Time  Office Working   \n",
       "2      Permanent - Full Time  Hybrid Working   \n",
       "3      Permanent - Full Time  Office Working   \n",
       "4     Fixed Term - Full Time  Office Working   \n",
       "...                      ...             ...   \n",
       "3502   Permanent - Full Time  Office Working   \n",
       "3503  Fixed Term - Full Time  Office Working   \n",
       "3504   Permanent - Full Time  Office Working   \n",
       "3505   Permanent - Full Time  Office Working   \n",
       "3506   Permanent - Full Time  Hybrid Working   \n",
       "\n",
       "                                                   link    from_date  \\\n",
       "0     https://mycareer.hsbc.com/en_GB/external/Pipel...  21-Sep-2022   \n",
       "1     https://mycareer.hsbc.com/en_GB/external/Pipel...  21-Sep-2022   \n",
       "2     https://mycareer.hsbc.com/en_GB/external/Pipel...  21-Sep-2022   \n",
       "3     https://mycareer.hsbc.com/en_GB/external/Pipel...  21-Sep-2022   \n",
       "4     https://mycareer.hsbc.com/en_GB/external/Pipel...  21-Sep-2022   \n",
       "...                                                 ...          ...   \n",
       "3502  https://mycareer.hsbc.com/en_GB/external/Pipel...  05-Dec-2021   \n",
       "3503  https://mycareer.hsbc.com/en_GB/external/Pipel...  01-Dec-2021   \n",
       "3504  https://mycareer.hsbc.com/en_GB/external/Pipel...  18-Nov-2021   \n",
       "3505  https://mycareer.hsbc.com/en_GB/external/Pipel...  28-Sep-2021   \n",
       "3506  https://mycareer.hsbc.com/en_GB/external/Pipel...  22-Aug-2021   \n",
       "\n",
       "          to_date  \n",
       "0     04-Oct-2022  \n",
       "1     05-Oct-2022  \n",
       "2     05-Oct-2022  \n",
       "3     31-Dec-2025  \n",
       "4     31-Dec-2025  \n",
       "...           ...  \n",
       "3502  30-Sep-2022  \n",
       "3503  31-Dec-2025  \n",
       "3504  31-Dec-2025  \n",
       "3505  30-Sep-2022  \n",
       "3506  31-Dec-2025  \n",
       "\n",
       "[3507 rows x 8 columns]"
      ]
     },
     "execution_count": 27,
     "metadata": {},
     "output_type": "execute_result"
    }
   ],
   "source": [
    "df"
   ]
  },
  {
   "cell_type": "markdown",
   "id": "92aab9bb",
   "metadata": {},
   "source": [
    "### Export de resultados"
   ]
  },
  {
   "cell_type": "code",
   "execution_count": 28,
   "id": "ecb77ef9",
   "metadata": {},
   "outputs": [],
   "source": [
    "df.to_csv(\"hsbc_jobs_data.csv\")"
   ]
  }
 ],
 "metadata": {
  "kernelspec": {
   "display_name": "Python 3 (ipykernel)",
   "language": "python",
   "name": "python3"
  },
  "language_info": {
   "codemirror_mode": {
    "name": "ipython",
    "version": 3
   },
   "file_extension": ".py",
   "mimetype": "text/x-python",
   "name": "python",
   "nbconvert_exporter": "python",
   "pygments_lexer": "ipython3",
   "version": "3.9.6"
  }
 },
 "nbformat": 4,
 "nbformat_minor": 5
}
