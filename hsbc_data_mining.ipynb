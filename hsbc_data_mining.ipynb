{
 "cells": [
  {
   "cell_type": "code",
   "execution_count": 103,
   "id": "9a6270ac",
   "metadata": {},
   "outputs": [],
   "source": [
    "import requests as re\n",
    "from bs4 import BeautifulSoup\n",
    "import pandas as pd"
   ]
  },
  {
   "cell_type": "markdown",
   "id": "ee4c6f52",
   "metadata": {},
   "source": [
    "## Extract all articles from job board"
   ]
  },
  {
   "cell_type": "code",
   "execution_count": 92,
   "id": "6f2afb3e",
   "metadata": {},
   "outputs": [],
   "source": [
    "RECORDS_PER_PAGE = 50\n",
    "get_url = lambda offset: f\"https://mycareer.hsbc.com/en_GB/external/SearchJobs/?pipelineRecordsPerPage={RECORDS_PER_PAGE}&pipelineOffset={offset}\""
   ]
  },
  {
   "cell_type": "code",
   "execution_count": 98,
   "id": "ce974ad3",
   "metadata": {},
   "outputs": [],
   "source": [
    "error_message = \"There are no jobs that match your search criteria. Please amend your filters and try again\"\n",
    "end_of_articles = lambda articles: articles[0].h3.text.strip(\" \\n\\r\") == error_message"
   ]
  },
  {
   "cell_type": "code",
   "execution_count": 99,
   "id": "c7631185",
   "metadata": {},
   "outputs": [],
   "source": [
    "def get_articles(offset):\n",
    "    r = re.get(get_url(offset))\n",
    "    soup = BeautifulSoup(r.text, \"html.parser\")\n",
    "    tiles = soup.find(\"div\", {\"class\": \"section__content__results\"})\n",
    "    articles = tiles.find_all(\"article\")\n",
    "    return articles"
   ]
  },
  {
   "cell_type": "code",
   "execution_count": 100,
   "id": "950c7adc",
   "metadata": {
    "scrolled": true
   },
   "outputs": [
    {
     "name": "stdout",
     "output_type": "stream",
     "text": [
      "0\n",
      "50\n",
      "100\n",
      "150\n",
      "200\n",
      "250\n",
      "300\n",
      "350\n",
      "400\n",
      "450\n",
      "500\n",
      "550\n",
      "600\n",
      "650\n",
      "700\n",
      "750\n",
      "800\n",
      "850\n",
      "900\n",
      "950\n",
      "1000\n",
      "1050\n",
      "1100\n",
      "1150\n",
      "1200\n",
      "1250\n",
      "1300\n",
      "1350\n",
      "1400\n",
      "1450\n",
      "1500\n",
      "1550\n",
      "1600\n",
      "1650\n",
      "1700\n",
      "1750\n",
      "1800\n",
      "1850\n",
      "1900\n",
      "1950\n",
      "2000\n",
      "2050\n",
      "2100\n",
      "2150\n",
      "2200\n",
      "2250\n",
      "2300\n",
      "2350\n",
      "2400\n",
      "2450\n",
      "2500\n",
      "2550\n",
      "2600\n",
      "2650\n",
      "2700\n",
      "2750\n",
      "2800\n",
      "2850\n",
      "2900\n",
      "2950\n",
      "3000\n",
      "3050\n",
      "3100\n",
      "3150\n",
      "3200\n",
      "3250\n",
      "3300\n",
      "3350\n",
      "3400\n"
     ]
    },
    {
     "data": {
      "text/plain": [
       "1"
      ]
     },
     "execution_count": 100,
     "metadata": {},
     "output_type": "execute_result"
    }
   ],
   "source": [
    "total_articles = []\n",
    "offset = 0\n",
    "articles = get_articles(offset)\n",
    "while not end_of_articles(articles):\n",
    "    print(offset)\n",
    "    total_articles += articles\n",
    "    offset += 50\n",
    "    articles = get_articles(offset)"
   ]
  },
  {
   "cell_type": "markdown",
   "id": "8728868a",
   "metadata": {},
   "source": [
    "## Extract data from each article"
   ]
  },
  {
   "cell_type": "code",
   "execution_count": 40,
   "id": "396f803f",
   "metadata": {},
   "outputs": [],
   "source": [
    "# Job Post items container\n",
    "get_data_container = lambda article: article.find(attrs={\"class\": \"article__header__text__subtitle\"}).find_all(attrs={\"class\": \"item__container\"})"
   ]
  },
  {
   "cell_type": "code",
   "execution_count": 69,
   "id": "7f256f27",
   "metadata": {},
   "outputs": [],
   "source": [
    "# Extracting functions\n",
    "get_article_title = lambda article: article.find(\"h3\").find(\"a\").string.strip(\" \\n\\r\")\n",
    "get_article_location = lambda container: container[0].find(attrs={\"class\": \"location\"}).string.strip(\" \\n\\r\")\n",
    "get_article_sector = lambda container: container[1].find(\"span\").string.strip(\" \\n\\r\")\n",
    "get_article_hours = lambda container: container[2].find(\"span\").string.strip(\" \\n\\r\")\n",
    "get_article_worktype = lambda container: container[3].find(\"span\").string.strip(\" \\n\\r\")\n",
    "get_article_dates = lambda container: [x.strip(\" \\n\\r\") for x in container[4].find(\"span\").string.replace(\" \", \"\").split(\"\\n\\n-\")]\n",
    "get_job_link = lambda article: article.find(attrs={\"class\": \"article__header__actions\"}).a[\"href\"]"
   ]
  },
  {
   "cell_type": "code",
   "execution_count": 116,
   "id": "9478ef1a",
   "metadata": {},
   "outputs": [],
   "source": [
    "def get_data_from_articles(articles):\n",
    "    data = []\n",
    "    for a in articles:\n",
    "        container = get_data_container(a)\n",
    "        location = get_article_location(container)\n",
    "        sector = get_article_sector(container)\n",
    "        hours = get_article_hours(container)\n",
    "        worktype = get_article_worktype(container)\n",
    "        dates = get_article_dates(container)\n",
    "        data.append({\n",
    "            \"location\": location,\n",
    "            \"sector\": sector,\n",
    "            \"hours\": hours,\n",
    "            \"worktype\": worktype,\n",
    "            \"dates\": dates,\n",
    "        })\n",
    "    return data"
   ]
  },
  {
   "cell_type": "code",
   "execution_count": 119,
   "id": "eb7857ca",
   "metadata": {},
   "outputs": [],
   "source": [
    "df = pd.DataFrame(get_data_from_articles(total_articles[:-1]))"
   ]
  },
  {
   "cell_type": "code",
   "execution_count": 125,
   "id": "c670870e",
   "metadata": {},
   "outputs": [],
   "source": [
    "df[\"from_date\"] = df[\"dates\"].str[0]\n",
    "df[\"to_date\"] = df[\"dates\"].str[1]"
   ]
  },
  {
   "cell_type": "code",
   "execution_count": 128,
   "id": "02ddad26",
   "metadata": {},
   "outputs": [],
   "source": [
    "df.drop(columns=[\"dates\"], inplace=True)"
   ]
  },
  {
   "cell_type": "code",
   "execution_count": 130,
   "id": "ecb77ef9",
   "metadata": {},
   "outputs": [],
   "source": [
    "df.to_csv(\"hsbc_jobs_data.csv\")"
   ]
  }
 ],
 "metadata": {
  "kernelspec": {
   "display_name": "Python 3 (ipykernel)",
   "language": "python",
   "name": "python3"
  },
  "language_info": {
   "codemirror_mode": {
    "name": "ipython",
    "version": 3
   },
   "file_extension": ".py",
   "mimetype": "text/x-python",
   "name": "python",
   "nbconvert_exporter": "python",
   "pygments_lexer": "ipython3",
   "version": "3.9.6"
  }
 },
 "nbformat": 4,
 "nbformat_minor": 5
}
