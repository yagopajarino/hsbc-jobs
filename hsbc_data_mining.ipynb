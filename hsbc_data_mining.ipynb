{
 "cells": [
  {
   "cell_type": "code",
   "execution_count": 1,
   "id": "9a6270ac",
   "metadata": {},
   "outputs": [],
   "source": [
    "import requests as re\n",
    "from bs4 import BeautifulSoup\n",
    "import pandas as pd"
   ]
  },
  {
   "cell_type": "markdown",
   "id": "ee4c6f52",
   "metadata": {},
   "source": [
    "## Extract all articles from job board"
   ]
  },
  {
   "cell_type": "code",
   "execution_count": 2,
   "id": "6f2afb3e",
   "metadata": {},
   "outputs": [],
   "source": [
    "RECORDS_PER_PAGE = 50\n",
    "get_url = lambda offset: f\"https://mycareer.hsbc.com/en_GB/external/SearchJobs/?pipelineRecordsPerPage={RECORDS_PER_PAGE}&pipelineOffset={offset}\""
   ]
  },
  {
   "cell_type": "code",
   "execution_count": 3,
   "id": "ce974ad3",
   "metadata": {},
   "outputs": [],
   "source": [
    "error_message = \"There are no jobs that match your search criteria. Please amend your filters and try again\"\n",
    "end_of_articles = lambda articles: articles[0].h3.text.strip(\" \\n\\r\") == error_message"
   ]
  },
  {
   "cell_type": "code",
   "execution_count": 4,
   "id": "c7631185",
   "metadata": {},
   "outputs": [],
   "source": [
    "def get_articles(offset):\n",
    "    r = re.get(get_url(offset))\n",
    "    soup = BeautifulSoup(r.text, \"html.parser\")\n",
    "    tiles = soup.find(\"div\", {\"class\": \"section__content__results\"})\n",
    "    articles = tiles.find_all(\"article\")\n",
    "    return articles"
   ]
  },
  {
   "cell_type": "code",
   "execution_count": 6,
   "id": "950c7adc",
   "metadata": {
    "scrolled": true
   },
   "outputs": [
    {
     "name": "stdout",
     "output_type": "stream",
     "text": [
      "Postings obtenidos: \n",
      "0 50 100 150 200 250 300 350 400 450 500 550 600 650 700 750 800 850 900 950 1000 1050 1100 1150 1200 1250 1300 1350 1400 1450 1500 1550 1600 1650 1700 1750 1800 1850 1900 1950 2000 2050 2100 2150 2200 2250 2300 2350 2400 2450 2500 2550 2600 2650 2700 2750 2800 2850 2900 2950 3000 3050 3100 3150 3200 3250 3300 3350 3400 "
     ]
    }
   ],
   "source": [
    "total_articles = []\n",
    "offset = 0\n",
    "articles = get_articles(offset)\n",
    "print(\"Postings obtenidos: \")\n",
    "while not end_of_articles(articles):\n",
    "    print(offset, end=\" \")\n",
    "    total_articles += articles\n",
    "    offset += 50\n",
    "    articles = get_articles(offset)"
   ]
  },
  {
   "cell_type": "markdown",
   "id": "8728868a",
   "metadata": {},
   "source": [
    "## Extract data from each article"
   ]
  },
  {
   "cell_type": "code",
   "execution_count": 7,
   "id": "396f803f",
   "metadata": {},
   "outputs": [],
   "source": [
    "# Job Post items container\n",
    "get_data_container = lambda article: article.find(attrs={\"class\": \"article__header__text__subtitle\"}).find_all(attrs={\"class\": \"item__container\"})"
   ]
  },
  {
   "cell_type": "code",
   "execution_count": 8,
   "id": "7f256f27",
   "metadata": {},
   "outputs": [],
   "source": [
    "# Extracting functions\n",
    "get_article_title = lambda article: article.find(\"h3\").find(\"a\").string.strip(\" \\n\\r\")\n",
    "get_article_location = lambda container: container[0].find(attrs={\"class\": \"location\"}).string.strip(\" \\n\\r\")\n",
    "get_article_sector = lambda container: container[1].find(\"span\").string.strip(\" \\n\\r\")\n",
    "get_article_hours = lambda container: container[2].find(\"span\").string.strip(\" \\n\\r\")\n",
    "get_article_worktype = lambda container: container[3].find(\"span\").string.strip(\" \\n\\r\")\n",
    "get_article_dates = lambda container: [x.strip(\" \\n\\r\") for x in container[4].find(\"span\").string.replace(\" \", \"\").split(\"\\n\\n-\")]\n",
    "get_job_link = lambda article: article.find(attrs={\"class\": \"article__header__actions\"}).a[\"href\"]"
   ]
  },
  {
   "cell_type": "code",
   "execution_count": 9,
   "id": "9478ef1a",
   "metadata": {},
   "outputs": [],
   "source": [
    "def get_data_from_articles(articles):\n",
    "    data = []\n",
    "    for a in articles:\n",
    "        container = get_data_container(a)\n",
    "        location = get_article_location(container)\n",
    "        sector = get_article_sector(container)\n",
    "        hours = get_article_hours(container)\n",
    "        worktype = get_article_worktype(container)\n",
    "        dates = get_article_dates(container)\n",
    "        data.append({\n",
    "            \"location\": location,\n",
    "            \"sector\": sector,\n",
    "            \"hours\": hours,\n",
    "            \"worktype\": worktype,\n",
    "            \"dates\": dates,\n",
    "        })\n",
    "    return data"
   ]
  },
  {
   "cell_type": "code",
   "execution_count": 10,
   "id": "eb7857ca",
   "metadata": {},
   "outputs": [],
   "source": [
    "df = pd.DataFrame(get_data_from_articles(total_articles[:-1]))"
   ]
  },
  {
   "cell_type": "code",
   "execution_count": 11,
   "id": "c670870e",
   "metadata": {},
   "outputs": [],
   "source": [
    "df[\"from_date\"] = df[\"dates\"].str[0]\n",
    "df[\"to_date\"] = df[\"dates\"].str[1]"
   ]
  },
  {
   "cell_type": "code",
   "execution_count": 12,
   "id": "02ddad26",
   "metadata": {},
   "outputs": [],
   "source": [
    "df.drop(columns=[\"dates\"], inplace=True)"
   ]
  },
  {
   "cell_type": "code",
   "execution_count": 13,
   "id": "2ca8b685",
   "metadata": {},
   "outputs": [
    {
     "data": {
      "text/html": [
       "<div>\n",
       "<style scoped>\n",
       "    .dataframe tbody tr th:only-of-type {\n",
       "        vertical-align: middle;\n",
       "    }\n",
       "\n",
       "    .dataframe tbody tr th {\n",
       "        vertical-align: top;\n",
       "    }\n",
       "\n",
       "    .dataframe thead th {\n",
       "        text-align: right;\n",
       "    }\n",
       "</style>\n",
       "<table border=\"1\" class=\"dataframe\">\n",
       "  <thead>\n",
       "    <tr style=\"text-align: right;\">\n",
       "      <th></th>\n",
       "      <th>location</th>\n",
       "      <th>sector</th>\n",
       "      <th>hours</th>\n",
       "      <th>worktype</th>\n",
       "      <th>from_date</th>\n",
       "      <th>to_date</th>\n",
       "    </tr>\n",
       "  </thead>\n",
       "  <tbody>\n",
       "    <tr>\n",
       "      <th>0</th>\n",
       "      <td>Hyderabad, India</td>\n",
       "      <td>Technology</td>\n",
       "      <td>Permanent - Full Time</td>\n",
       "      <td>Office Working</td>\n",
       "      <td>19-Sep-2022</td>\n",
       "      <td>31-Dec-2025</td>\n",
       "    </tr>\n",
       "    <tr>\n",
       "      <th>1</th>\n",
       "      <td>Sydney, Australia</td>\n",
       "      <td>Procurement</td>\n",
       "      <td>Permanent - Full Time</td>\n",
       "      <td>Hybrid Working</td>\n",
       "      <td>19-Sep-2022</td>\n",
       "      <td>03-Oct-2022</td>\n",
       "    </tr>\n",
       "    <tr>\n",
       "      <th>2</th>\n",
       "      <td>Shanghai, Mainland China</td>\n",
       "      <td>Branch and Retail Banking</td>\n",
       "      <td>Permanent - Full Time</td>\n",
       "      <td>Office Working</td>\n",
       "      <td>19-Sep-2022</td>\n",
       "      <td>30-Nov-2022</td>\n",
       "    </tr>\n",
       "    <tr>\n",
       "      <th>3</th>\n",
       "      <td>Singapore, Singapore</td>\n",
       "      <td>Insurance</td>\n",
       "      <td>Permanent - Full Time</td>\n",
       "      <td>Hybrid Working</td>\n",
       "      <td>19-Sep-2022</td>\n",
       "      <td>03-Oct-2022</td>\n",
       "    </tr>\n",
       "    <tr>\n",
       "      <th>4</th>\n",
       "      <td>Hyderabad, India</td>\n",
       "      <td>Technology</td>\n",
       "      <td>Permanent - Full Time</td>\n",
       "      <td>Office Working</td>\n",
       "      <td>19-Sep-2022</td>\n",
       "      <td>31-Dec-2025</td>\n",
       "    </tr>\n",
       "    <tr>\n",
       "      <th>...</th>\n",
       "      <td>...</td>\n",
       "      <td>...</td>\n",
       "      <td>...</td>\n",
       "      <td>...</td>\n",
       "      <td>...</td>\n",
       "      <td>...</td>\n",
       "    </tr>\n",
       "    <tr>\n",
       "      <th>3405</th>\n",
       "      <td>Kowloon Bay, Hong Kong</td>\n",
       "      <td>Call Centre</td>\n",
       "      <td>Permanent - Full Time</td>\n",
       "      <td>Office Working</td>\n",
       "      <td>05-Dec-2021</td>\n",
       "      <td>31-Dec-2025</td>\n",
       "    </tr>\n",
       "    <tr>\n",
       "      <th>3406</th>\n",
       "      <td>Beijing, Mainland China</td>\n",
       "      <td>Insurance</td>\n",
       "      <td>Fixed Term - Full Time</td>\n",
       "      <td>Office Working</td>\n",
       "      <td>01-Dec-2021</td>\n",
       "      <td>31-Dec-2025</td>\n",
       "    </tr>\n",
       "    <tr>\n",
       "      <th>3407</th>\n",
       "      <td>Kowloon Bay, Hong Kong</td>\n",
       "      <td>Call Centre</td>\n",
       "      <td>Permanent - Full Time</td>\n",
       "      <td>Office Working</td>\n",
       "      <td>18-Nov-2021</td>\n",
       "      <td>31-Dec-2025</td>\n",
       "    </tr>\n",
       "    <tr>\n",
       "      <th>3408</th>\n",
       "      <td>Paris, France</td>\n",
       "      <td>Branch and Retail Banking</td>\n",
       "      <td>Permanent - Full Time</td>\n",
       "      <td>Office Working</td>\n",
       "      <td>28-Sep-2021</td>\n",
       "      <td>30-Sep-2022</td>\n",
       "    </tr>\n",
       "    <tr>\n",
       "      <th>3409</th>\n",
       "      <td>Kowloon City, Hong Kong</td>\n",
       "      <td>Operations</td>\n",
       "      <td>Permanent - Full Time</td>\n",
       "      <td>Hybrid Working</td>\n",
       "      <td>22-Aug-2021</td>\n",
       "      <td>31-Dec-2025</td>\n",
       "    </tr>\n",
       "  </tbody>\n",
       "</table>\n",
       "<p>3410 rows × 6 columns</p>\n",
       "</div>"
      ],
      "text/plain": [
       "                      location                     sector  \\\n",
       "0             Hyderabad, India                 Technology   \n",
       "1            Sydney, Australia                Procurement   \n",
       "2     Shanghai, Mainland China  Branch and Retail Banking   \n",
       "3         Singapore, Singapore                  Insurance   \n",
       "4             Hyderabad, India                 Technology   \n",
       "...                        ...                        ...   \n",
       "3405    Kowloon Bay, Hong Kong                Call Centre   \n",
       "3406   Beijing, Mainland China                  Insurance   \n",
       "3407    Kowloon Bay, Hong Kong                Call Centre   \n",
       "3408             Paris, France  Branch and Retail Banking   \n",
       "3409   Kowloon City, Hong Kong                 Operations   \n",
       "\n",
       "                       hours        worktype    from_date      to_date  \n",
       "0      Permanent - Full Time  Office Working  19-Sep-2022  31-Dec-2025  \n",
       "1      Permanent - Full Time  Hybrid Working  19-Sep-2022  03-Oct-2022  \n",
       "2      Permanent - Full Time  Office Working  19-Sep-2022  30-Nov-2022  \n",
       "3      Permanent - Full Time  Hybrid Working  19-Sep-2022  03-Oct-2022  \n",
       "4      Permanent - Full Time  Office Working  19-Sep-2022  31-Dec-2025  \n",
       "...                      ...             ...          ...          ...  \n",
       "3405   Permanent - Full Time  Office Working  05-Dec-2021  31-Dec-2025  \n",
       "3406  Fixed Term - Full Time  Office Working  01-Dec-2021  31-Dec-2025  \n",
       "3407   Permanent - Full Time  Office Working  18-Nov-2021  31-Dec-2025  \n",
       "3408   Permanent - Full Time  Office Working  28-Sep-2021  30-Sep-2022  \n",
       "3409   Permanent - Full Time  Hybrid Working  22-Aug-2021  31-Dec-2025  \n",
       "\n",
       "[3410 rows x 6 columns]"
      ]
     },
     "execution_count": 13,
     "metadata": {},
     "output_type": "execute_result"
    }
   ],
   "source": [
    "df"
   ]
  },
  {
   "cell_type": "code",
   "execution_count": 14,
   "id": "ecb77ef9",
   "metadata": {},
   "outputs": [],
   "source": [
    "df.to_csv(\"hsbc_jobs_data.csv\")"
   ]
  }
 ],
 "metadata": {
  "kernelspec": {
   "display_name": "Python 3 (ipykernel)",
   "language": "python",
   "name": "python3"
  },
  "language_info": {
   "codemirror_mode": {
    "name": "ipython",
    "version": 3
   },
   "file_extension": ".py",
   "mimetype": "text/x-python",
   "name": "python",
   "nbconvert_exporter": "python",
   "pygments_lexer": "ipython3",
   "version": "3.9.6"
  }
 },
 "nbformat": 4,
 "nbformat_minor": 5
}
